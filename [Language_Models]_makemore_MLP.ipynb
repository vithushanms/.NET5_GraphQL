{
  "cells": [
    {
      "cell_type": "markdown",
      "metadata": {
        "id": "view-in-github",
        "colab_type": "text"
      },
      "source": [
        "<a href=\"https://colab.research.google.com/github/vithushanms/.NET5_GraphQL/blob/main/%5BLanguage_Models%5D_makemore_MLP.ipynb\" target=\"_parent\"><img src=\"https://colab.research.google.com/assets/colab-badge.svg\" alt=\"Open In Colab\"/></a>"
      ]
    },
    {
      "cell_type": "code",
      "execution_count": 119,
      "metadata": {
        "id": "jV_VKEpC1SEs"
      },
      "outputs": [],
      "source": [
        "import torch\n",
        "import torch.nn.functional as F\n",
        "import matplotlib.pyplot as plt # for making figures\n",
        "%matplotlib inline"
      ]
    },
    {
      "cell_type": "code",
      "execution_count": 120,
      "metadata": {
        "colab": {
          "base_uri": "https://localhost:8080/"
        },
        "id": "q6lGUb1f1WXO",
        "outputId": "0a6a081f-e336-45fb-c967-f9b69b7677e4"
      },
      "outputs": [
        {
          "output_type": "stream",
          "name": "stdout",
          "text": [
            "Drive already mounted at /content/drive; to attempt to forcibly remount, call drive.mount(\"/content/drive\", force_remount=True).\n"
          ]
        }
      ],
      "source": [
        "#if cloud\n",
        "from google.colab import drive\n",
        "drive.mount('/content/drive')\n",
        "dataFilePath = '/content/drive/My Drive/Publications/Neural Networks Research/makemore: next char prediction language model/names.txt'\n",
        "words = open(dataFilePath, 'r').read().splitlines() "
      ]
    },
    {
      "cell_type": "code",
      "execution_count": 121,
      "metadata": {
        "colab": {
          "base_uri": "https://localhost:8080/"
        },
        "id": "E_gPeNo21azj",
        "outputId": "b2749fbd-1041-492e-b87e-be0f762ea4d2"
      },
      "outputs": [
        {
          "output_type": "execute_result",
          "data": {
            "text/plain": [
              "32033"
            ]
          },
          "metadata": {},
          "execution_count": 121
        }
      ],
      "source": [
        "len(words)"
      ]
    },
    {
      "cell_type": "code",
      "execution_count": 122,
      "metadata": {
        "colab": {
          "base_uri": "https://localhost:8080/"
        },
        "id": "TJRK_EOV1_8U",
        "outputId": "296c9e2a-2852-4c54-9d14-e272b57d8d83"
      },
      "outputs": [
        {
          "output_type": "stream",
          "name": "stdout",
          "text": [
            "{1: 'a', 2: 'b', 3: 'c', 4: 'd', 5: 'e', 6: 'f', 7: 'g', 8: 'h', 9: 'i', 10: 'j', 11: 'k', 12: 'l', 13: 'm', 14: 'n', 15: 'o', 16: 'p', 17: 'q', 18: 'r', 19: 's', 20: 't', 21: 'u', 22: 'v', 23: 'w', 24: 'x', 25: 'y', 26: 'z', 0: '.'}\n"
          ]
        }
      ],
      "source": [
        "# encode chars in the words to integer\n",
        "chars = sorted(list(set(''.join(words))))\n",
        "stoi = {s:i+1 for i,s in enumerate(chars)}\n",
        "stoi['.'] = 0\n",
        "itos = {i:s for s,i in stoi.items()}\n",
        "print(itos)"
      ]
    },
    {
      "cell_type": "code",
      "execution_count": 123,
      "metadata": {
        "colab": {
          "base_uri": "https://localhost:8080/"
        },
        "id": "a5Bd8760V_ok",
        "outputId": "7245fd09-1ece-43b6-af8d-95103b9731d2"
      },
      "outputs": [
        {
          "output_type": "execute_result",
          "data": {
            "text/plain": [
              "[0, 0, 0]"
            ]
          },
          "metadata": {},
          "execution_count": 123
        }
      ],
      "source": [
        "[0] * 3"
      ]
    },
    {
      "cell_type": "code",
      "execution_count": 124,
      "metadata": {
        "colab": {
          "base_uri": "https://localhost:8080/"
        },
        "id": "N_L5IWrf2M2i",
        "outputId": "145520ba-ce0d-4b04-a06b-5780bef81f1c"
      },
      "outputs": [
        {
          "output_type": "stream",
          "name": "stdout",
          "text": [
            "emma\n",
            "... ---> e\n",
            "..e ---> m\n",
            ".em ---> m\n",
            "emm ---> a\n",
            "mma ---> .\n",
            "olivia\n",
            "... ---> o\n",
            "..o ---> l\n",
            ".ol ---> i\n",
            "oli ---> v\n",
            "liv ---> i\n",
            "ivi ---> a\n",
            "via ---> .\n",
            "ava\n",
            "... ---> a\n",
            "..a ---> v\n",
            ".av ---> a\n",
            "ava ---> .\n",
            "isabella\n",
            "... ---> i\n",
            "..i ---> s\n",
            ".is ---> a\n",
            "isa ---> b\n",
            "sab ---> e\n",
            "abe ---> l\n",
            "bel ---> l\n",
            "ell ---> a\n",
            "lla ---> .\n",
            "sophia\n",
            "... ---> s\n",
            "..s ---> o\n",
            ".so ---> p\n",
            "sop ---> h\n",
            "oph ---> i\n",
            "phi ---> a\n",
            "hia ---> .\n"
          ]
        }
      ],
      "source": [
        "# build the dataset\n",
        "\n",
        "'''\n",
        "build the dataset while having the block_size (the number of chars we are going to input at a time) as 3\n",
        "'''\n",
        "block_size = 3 \n",
        "X, Y = [], []\n",
        "for w in words[:5]:\n",
        "  print(w)\n",
        "  context = [0] * block_size\n",
        "  for ch in w + '.':\n",
        "    ix = stoi[ch]\n",
        "    X.append(context)\n",
        "    Y.append(ix)\n",
        "    print(''.join(itos[i] for i in context), '--->', itos[ix])\n",
        "    context = context[1:] + [ix]\n",
        "  \n",
        "X = torch.tensor(X)\n",
        "Y = torch.tensor(Y)"
      ]
    },
    {
      "cell_type": "markdown",
      "source": [
        "X.shape = 32, 3 as the number of inputs are 32 and each have 3 charector input\n",
        "Y.shape = 32, 1 as the number of outcome are 32 and for each respective inputs of 3 charactor there will be one output"
      ],
      "metadata": {
        "id": "qSBgym2lfZEL"
      }
    },
    {
      "cell_type": "markdown",
      "metadata": {
        "id": "shDqtLHNCg9u"
      },
      "source": [
        "As a next step we should encode the dataset X to some sort of format that should be light weight at the same time have the context. \n",
        "\n",
        "If we use the one hot encoding this would work for this particular case as it's only 27 distinct charecter we have in our dataset. but if we take large language models posibily there would be more than a billion distict words makes that diemention to the input set. Therefore we need to scale it down to a smaller diemention without loosing the quality of the prediction. So for that and the following reasons we should scale down the data.\n",
        "\n",
        "*   Sparsity: One-hot encoded vectors are sparse, with only one element being 1 and the rest being 0. This can lead to high memory usage, especially for large vocabularies, as each word requires a vector of the size of the vocabulary.\n",
        "*   Computational complexity: Since one-hot encoded vectors are high-dimensional, matrix multiplications and other operations in the model become computationally expensive. By reducing the dimensionality, you can significantly speed up training and inference.\n",
        "* No semantic information: One-hot encoded vectors don't capture any semantic relationships between words, as they are orthogonal to each other. Word embeddings, on the other hand, are dense vector representations that capture semantic relationships, making it easier for the model to learn and generalize from the data.\n",
        "* Poor generalization: One-hot encoding does not support handling out-of-vocabulary words or handling new words that were not seen during training. Word embeddings can help in this regard by generating embeddings for previously unseen words based on their morphological or contextual similarities to known words.\n",
        "* Difficulty in capturing context: One-hot encoded vectors don't capture context information effectively. Word embeddings, especially when used in combination with more advanced techniques like transformers, can capture long-range dependencies and contextual information, enabling the model to better understand and generate coherent sequences of text.\n",
        "\n"
      ]
    },
    {
      "cell_type": "code",
      "execution_count": 125,
      "metadata": {
        "id": "daGO2xXNCU-v",
        "colab": {
          "base_uri": "https://localhost:8080/"
        },
        "outputId": "51e99fc3-3c35-4729-fab6-8ef30e67db35"
      },
      "outputs": [
        {
          "output_type": "execute_result",
          "data": {
            "text/plain": [
              "tensor([0.6811, 0.2403], grad_fn=<SqueezeBackward3>)"
            ]
          },
          "metadata": {},
          "execution_count": 125
        }
      ],
      "source": [
        "# we can use the matrix multiplication to scale it down. ex (32,27) * (27,2) = (32,2) \n",
        "#Also this is going to be the first layer / input layer of the MLP\n",
        "C = torch.rand(27,2, requires_grad=True)\n",
        "#example with a one hot encoding of 5\n",
        "five_en = torch.nn.functional.one_hot(torch.tensor(5), num_classes=27).float()\n",
        "(five_en @ C)"
      ]
    },
    {
      "cell_type": "code",
      "execution_count": 126,
      "metadata": {
        "colab": {
          "base_uri": "https://localhost:8080/"
        },
        "id": "mnPA_5tsCZpC",
        "outputId": "5e00282f-73e4-4ea7-87e5-ed15ac174b13"
      },
      "outputs": [
        {
          "output_type": "execute_result",
          "data": {
            "text/plain": [
              "tensor([0.6811, 0.2403], grad_fn=<SelectBackward0>)"
            ]
          },
          "metadata": {},
          "execution_count": 126
        }
      ],
      "source": [
        "#apperently this is same as what we are going to get by the integer representation itself|\n",
        "C[5]"
      ]
    },
    {
      "cell_type": "markdown",
      "metadata": {
        "id": "aiVsULbXDvjg"
      },
      "source": [
        "So we can dierectly use indexing here"
      ]
    },
    {
      "cell_type": "code",
      "execution_count": 127,
      "metadata": {
        "colab": {
          "base_uri": "https://localhost:8080/"
        },
        "id": "WjQfNLzSDroh",
        "outputId": "d380e98e-dbac-42d5-b67b-8716ad70c190"
      },
      "outputs": [
        {
          "output_type": "execute_result",
          "data": {
            "text/plain": [
              "torch.Size([32, 3, 2])"
            ]
          },
          "metadata": {},
          "execution_count": 127
        }
      ],
      "source": [
        "# we can index the whole data set at one go\n",
        "C[X].shape"
      ]
    },
    {
      "cell_type": "markdown",
      "source": [
        "This is resulting with 32, 3, 2 because we have 32 lines of inputs and each input has 3 character and each character is encoded to 2 diemention instead of 27"
      ],
      "metadata": {
        "id": "Y4JxNLxrlxF6"
      }
    },
    {
      "cell_type": "code",
      "execution_count": 128,
      "metadata": {
        "id": "RyHyEN71ElUI"
      },
      "outputs": [],
      "source": [
        "emb = C[X]"
      ]
    },
    {
      "cell_type": "markdown",
      "source": [
        "But at some point we need to concatinate the 3 character encodings as we need to pass them all together to the inputs to next layer of the model"
      ],
      "metadata": {
        "id": "a-21hKWJm_qR"
      }
    },
    {
      "cell_type": "code",
      "execution_count": 129,
      "metadata": {
        "colab": {
          "base_uri": "https://localhost:8080/"
        },
        "id": "fnoP7FNnFk96",
        "outputId": "cfe10fef-a94d-499c-d0e2-fdab37872b7a"
      },
      "outputs": [
        {
          "output_type": "execute_result",
          "data": {
            "text/plain": [
              "torch.Size([32, 6])"
            ]
          },
          "metadata": {},
          "execution_count": 129
        }
      ],
      "source": [
        "# we can use torch.cat\n",
        "torch.cat([emb[: , 0, :], emb[:, 1, :], emb[:, 2, :]], dim=1).shape"
      ]
    },
    {
      "cell_type": "code",
      "source": [
        "# we can use view which is the most efficent way\n",
        "emb.view(32,6).shape"
      ],
      "metadata": {
        "colab": {
          "base_uri": "https://localhost:8080/"
        },
        "id": "UWKZsFb4noSE",
        "outputId": "e2c859c7-4110-4f90-c8ab-211ad783096d"
      },
      "execution_count": 130,
      "outputs": [
        {
          "output_type": "execute_result",
          "data": {
            "text/plain": [
              "torch.Size([32, 6])"
            ]
          },
          "metadata": {},
          "execution_count": 130
        }
      ]
    },
    {
      "cell_type": "markdown",
      "source": [
        "view() is used to reshape a tensor without altering its underlying data. It returns a new tensor with the specified dimensions that shares the same data with the original tensor. The primary goal of view() is to change the dimensions of a tensor to match the input or output requirements of neural network layers or other operations.\n",
        "\n",
        "torch.cat() is used to concatenate multiple tensors along a specified dimension. This operation combines the input tensors into a single larger tensor, effectively \"stacking\" them along the chosen axis. The input tensors must have the same shape along all dimensions except for the one being concatenated.\n",
        "\n",
        "However in this spesific scenario the data arrangement is going to the same in both the cases as we are effectivly slicing the input. But view is slightly efficent as it's just a reshape operation performed in the same tensor rather than creating a tensor and copying the data to the new diemension in torch.cat"
      ],
      "metadata": {
        "id": "5RvQKxmmsbLI"
      }
    },
    {
      "cell_type": "code",
      "source": [
        "torch.cat([emb[: , 0, :], emb[:, 1, :], emb[:, 2, :]], dim=1)"
      ],
      "metadata": {
        "colab": {
          "base_uri": "https://localhost:8080/"
        },
        "id": "6Txdy3xC_-aY",
        "outputId": "9bcaa5a6-09a0-4642-d0b0-3e95a76bb309"
      },
      "execution_count": 131,
      "outputs": [
        {
          "output_type": "execute_result",
          "data": {
            "text/plain": [
              "tensor([[0.1728, 0.5642, 0.1728, 0.5642, 0.1728, 0.5642],\n",
              "        [0.1728, 0.5642, 0.1728, 0.5642, 0.6811, 0.2403],\n",
              "        [0.1728, 0.5642, 0.6811, 0.2403, 0.9375, 0.1382],\n",
              "        [0.6811, 0.2403, 0.9375, 0.1382, 0.9375, 0.1382],\n",
              "        [0.9375, 0.1382, 0.9375, 0.1382, 0.2328, 0.6608],\n",
              "        [0.1728, 0.5642, 0.1728, 0.5642, 0.1728, 0.5642],\n",
              "        [0.1728, 0.5642, 0.1728, 0.5642, 0.7800, 0.8583],\n",
              "        [0.1728, 0.5642, 0.7800, 0.8583, 0.7092, 0.9799],\n",
              "        [0.7800, 0.8583, 0.7092, 0.9799, 0.9501, 0.9993],\n",
              "        [0.7092, 0.9799, 0.9501, 0.9993, 0.9483, 0.6973],\n",
              "        [0.9501, 0.9993, 0.9483, 0.6973, 0.9501, 0.9993],\n",
              "        [0.9483, 0.6973, 0.9501, 0.9993, 0.2328, 0.6608],\n",
              "        [0.1728, 0.5642, 0.1728, 0.5642, 0.1728, 0.5642],\n",
              "        [0.1728, 0.5642, 0.1728, 0.5642, 0.2328, 0.6608],\n",
              "        [0.1728, 0.5642, 0.2328, 0.6608, 0.9483, 0.6973],\n",
              "        [0.2328, 0.6608, 0.9483, 0.6973, 0.2328, 0.6608],\n",
              "        [0.1728, 0.5642, 0.1728, 0.5642, 0.1728, 0.5642],\n",
              "        [0.1728, 0.5642, 0.1728, 0.5642, 0.9501, 0.9993],\n",
              "        [0.1728, 0.5642, 0.9501, 0.9993, 0.1516, 0.8287],\n",
              "        [0.9501, 0.9993, 0.1516, 0.8287, 0.2328, 0.6608],\n",
              "        [0.1516, 0.8287, 0.2328, 0.6608, 0.7167, 0.4620],\n",
              "        [0.2328, 0.6608, 0.7167, 0.4620, 0.6811, 0.2403],\n",
              "        [0.7167, 0.4620, 0.6811, 0.2403, 0.7092, 0.9799],\n",
              "        [0.6811, 0.2403, 0.7092, 0.9799, 0.7092, 0.9799],\n",
              "        [0.7092, 0.9799, 0.7092, 0.9799, 0.2328, 0.6608],\n",
              "        [0.1728, 0.5642, 0.1728, 0.5642, 0.1728, 0.5642],\n",
              "        [0.1728, 0.5642, 0.1728, 0.5642, 0.1516, 0.8287],\n",
              "        [0.1728, 0.5642, 0.1516, 0.8287, 0.7800, 0.8583],\n",
              "        [0.1516, 0.8287, 0.7800, 0.8583, 0.2121, 0.5900],\n",
              "        [0.7800, 0.8583, 0.2121, 0.5900, 0.9257, 0.2552],\n",
              "        [0.2121, 0.5900, 0.9257, 0.2552, 0.9501, 0.9993],\n",
              "        [0.9257, 0.2552, 0.9501, 0.9993, 0.2328, 0.6608]],\n",
              "       grad_fn=<CatBackward0>)"
            ]
          },
          "metadata": {},
          "execution_count": 131
        }
      ]
    },
    {
      "cell_type": "code",
      "source": [
        "emb.view(32,6)"
      ],
      "metadata": {
        "colab": {
          "base_uri": "https://localhost:8080/"
        },
        "id": "MTMHA3afqdmI",
        "outputId": "39b512d7-94ba-42f9-c10b-716af85316bf"
      },
      "execution_count": 132,
      "outputs": [
        {
          "output_type": "execute_result",
          "data": {
            "text/plain": [
              "tensor([[0.1728, 0.5642, 0.1728, 0.5642, 0.1728, 0.5642],\n",
              "        [0.1728, 0.5642, 0.1728, 0.5642, 0.6811, 0.2403],\n",
              "        [0.1728, 0.5642, 0.6811, 0.2403, 0.9375, 0.1382],\n",
              "        [0.6811, 0.2403, 0.9375, 0.1382, 0.9375, 0.1382],\n",
              "        [0.9375, 0.1382, 0.9375, 0.1382, 0.2328, 0.6608],\n",
              "        [0.1728, 0.5642, 0.1728, 0.5642, 0.1728, 0.5642],\n",
              "        [0.1728, 0.5642, 0.1728, 0.5642, 0.7800, 0.8583],\n",
              "        [0.1728, 0.5642, 0.7800, 0.8583, 0.7092, 0.9799],\n",
              "        [0.7800, 0.8583, 0.7092, 0.9799, 0.9501, 0.9993],\n",
              "        [0.7092, 0.9799, 0.9501, 0.9993, 0.9483, 0.6973],\n",
              "        [0.9501, 0.9993, 0.9483, 0.6973, 0.9501, 0.9993],\n",
              "        [0.9483, 0.6973, 0.9501, 0.9993, 0.2328, 0.6608],\n",
              "        [0.1728, 0.5642, 0.1728, 0.5642, 0.1728, 0.5642],\n",
              "        [0.1728, 0.5642, 0.1728, 0.5642, 0.2328, 0.6608],\n",
              "        [0.1728, 0.5642, 0.2328, 0.6608, 0.9483, 0.6973],\n",
              "        [0.2328, 0.6608, 0.9483, 0.6973, 0.2328, 0.6608],\n",
              "        [0.1728, 0.5642, 0.1728, 0.5642, 0.1728, 0.5642],\n",
              "        [0.1728, 0.5642, 0.1728, 0.5642, 0.9501, 0.9993],\n",
              "        [0.1728, 0.5642, 0.9501, 0.9993, 0.1516, 0.8287],\n",
              "        [0.9501, 0.9993, 0.1516, 0.8287, 0.2328, 0.6608],\n",
              "        [0.1516, 0.8287, 0.2328, 0.6608, 0.7167, 0.4620],\n",
              "        [0.2328, 0.6608, 0.7167, 0.4620, 0.6811, 0.2403],\n",
              "        [0.7167, 0.4620, 0.6811, 0.2403, 0.7092, 0.9799],\n",
              "        [0.6811, 0.2403, 0.7092, 0.9799, 0.7092, 0.9799],\n",
              "        [0.7092, 0.9799, 0.7092, 0.9799, 0.2328, 0.6608],\n",
              "        [0.1728, 0.5642, 0.1728, 0.5642, 0.1728, 0.5642],\n",
              "        [0.1728, 0.5642, 0.1728, 0.5642, 0.1516, 0.8287],\n",
              "        [0.1728, 0.5642, 0.1516, 0.8287, 0.7800, 0.8583],\n",
              "        [0.1516, 0.8287, 0.7800, 0.8583, 0.2121, 0.5900],\n",
              "        [0.7800, 0.8583, 0.2121, 0.5900, 0.9257, 0.2552],\n",
              "        [0.2121, 0.5900, 0.9257, 0.2552, 0.9501, 0.9993],\n",
              "        [0.9257, 0.2552, 0.9501, 0.9993, 0.2328, 0.6608]],\n",
              "       grad_fn=<ViewBackward0>)"
            ]
          },
          "metadata": {},
          "execution_count": 132
        }
      ]
    },
    {
      "cell_type": "markdown",
      "source": [
        "A Multilayer Perceptron (MLP) is a type of artificial neural network that can be used for language modeling tasks. The following are some of the hyperparameters that can be adjusted in an MLP for language modeling:\n",
        "\n",
        "1. Architecture: The number of hidden layers and the number of neurons in each layer can be adjusted. Increasing the number of hidden layers and neurons can increase the capacity of the model, but also increase the risk of overfitting.\n",
        "\n",
        "2. Activation Function: The activation function used in each layer can be adjusted. Common choices include ReLU, sigmoid, and tanh.\n",
        "\n",
        "3. Learning Rate: The learning rate determines the step size used to update the model's parameters during training. A too-high learning rate can cause the model to converge slowly or not at all, while a too-low learning rate can cause the model to converge too slowly.\n",
        "\n",
        "4. Momentum: Momentum is a hyperparameter used in gradient descent optimization algorithms to speed up convergence. It adds a fraction of the update vector of the past time step to the current update vector.\n",
        "\n",
        "5. Regularization: Regularization is a technique used to prevent overfitting by adding a penalty term to the loss function. Common choices include L1 and L2 regularization, and dropout.\n",
        "\n",
        "6. Batch Size: The batch size determines the number of samples used in one iteration of training. Larger batch sizes can lead to faster training, but may also require more memory.\n",
        "\n",
        "7. Epochs: The number of training epochs determines how many times the model will see the entire training dataset. More epochs can lead to better model performance, but also increase the risk of overfitting.\n",
        "\n",
        "These are some of the most common hyperparameters that can be adjusted in an MLP for language modeling. The optimal values for these hyperparameters depend on the specific task and dataset, and often require experimentation to determine.\n",
        "\n",
        "These hyperparameter can be optimized mostly by the trial and errors during the training "
      ],
      "metadata": {
        "id": "TBIVk54LusbQ"
      }
    },
    {
      "cell_type": "code",
      "execution_count": 105,
      "metadata": {
        "id": "IxeWKGiNHcr1"
      },
      "outputs": [],
      "source": [
        "#create hidden layer. having 100 neurons initially and adding tanh as an activation function\n",
        "W1 = torch.randn((6,100), requires_grad=True)\n",
        "b = torch.randn(100, requires_grad=True)\n",
        "out_1 = emb.view(32,6) @ W1 + b\n",
        "out_h = torch.tanh(out_1)"
      ]
    },
    {
      "cell_type": "code",
      "execution_count": 106,
      "metadata": {
        "colab": {
          "base_uri": "https://localhost:8080/"
        },
        "id": "zsAA5gpdJdvZ",
        "outputId": "5e28c0fb-aefb-4a5f-e656-2d66e9d71fb8"
      },
      "outputs": [
        {
          "output_type": "execute_result",
          "data": {
            "text/plain": [
              "torch.Size([32, 100])"
            ]
          },
          "metadata": {},
          "execution_count": 106
        }
      ],
      "source": [
        "out_h.shape"
      ]
    },
    {
      "cell_type": "code",
      "execution_count": 107,
      "metadata": {
        "id": "ieM1oPF9Jftl"
      },
      "outputs": [],
      "source": [
        "#create final layer. we are using the softmax for activation function as the expecation to get a probability of each character in 27\n",
        "W2 = torch.randn((100,27) , requires_grad=True)\n",
        "b2 = torch.randn(27, requires_grad=True)\n",
        "logits = out_h @ W2 + b2  \n",
        "#perform softmax\n",
        "counts = torch.exp(logits)\n",
        "counts.shape\n",
        "prob = counts / counts.sum(1, keepdim=True)"
      ]
    },
    {
      "cell_type": "markdown",
      "source": [
        "Emphasize differences: Exponentiating logits makes the differences between large and small logits more pronounced, causing the softmax function to produce more distinct probabilities. This property is helpful in tasks like classification, where you want the model to be more confident in its predictions.\n",
        "\n",
        "Non-negative probabilities: Exponentiating logits ensures that the resulting probabilities are non-negative, as the exponential function e^x is always positive for any x. This is important because probabilities should always be non-negative by definition.\n",
        "\n",
        "Normalization: After exponentiating logits, they are normalized by dividing each exponentiated logit by the sum of all exponentiated logits. This normalization step ensures that the resulting probabilities sum up to 1, which is a requirement for a valid probability distribution."
      ],
      "metadata": {
        "id": "7Sl3J-2Sw0vk"
      }
    },
    {
      "cell_type": "code",
      "execution_count": 108,
      "metadata": {
        "colab": {
          "base_uri": "https://localhost:8080/"
        },
        "id": "gavMCZ0vKZFL",
        "outputId": "abbbe655-217d-40c9-d5fd-71778d1c492e"
      },
      "outputs": [
        {
          "output_type": "execute_result",
          "data": {
            "text/plain": [
              "torch.Size([32, 27])"
            ]
          },
          "metadata": {},
          "execution_count": 108
        }
      ],
      "source": [
        "prob.shape"
      ]
    },
    {
      "cell_type": "code",
      "execution_count": 109,
      "metadata": {
        "colab": {
          "base_uri": "https://localhost:8080/"
        },
        "id": "_mE10QkTLLeV",
        "outputId": "5eabba87-0241-49a3-fe23-7c3bc104c04e"
      },
      "outputs": [
        {
          "output_type": "stream",
          "name": "stdout",
          "text": [
            "---- y actual : e --> 5 \n",
            "---- predicted probabilities :  tensor([7.6692e-05, 4.2762e-02, 1.6194e-04, 7.5072e-08, 4.6627e-01, 7.9406e-05,\n",
            "        3.2504e-02, 5.2626e-09, 2.7080e-01, 1.6396e-07, 1.3619e-05, 7.2042e-04,\n",
            "        1.0136e-04, 1.1874e-07, 4.1913e-07, 1.8226e-01, 1.3920e-06, 3.2976e-06,\n",
            "        4.4810e-06, 4.7982e-09, 3.4682e-05, 6.7459e-08, 5.8284e-08, 2.1400e-05,\n",
            "        5.1962e-06, 3.9390e-12, 4.1876e-03], grad_fn=<SelectBackward0>)\n",
            "---- predicted probability of e 7.940554496599361e-05 \n",
            "---- y actual : m --> 13 \n",
            "---- predicted probabilities :  tensor([2.8837e-02, 2.0960e-01, 3.2999e-04, 2.3308e-07, 6.0434e-01, 2.7638e-06,\n",
            "        3.3091e-04, 6.0075e-09, 6.5271e-03, 1.8370e-07, 4.5106e-06, 6.1224e-03,\n",
            "        1.2553e-04, 9.0463e-10, 5.3147e-07, 1.4123e-01, 6.6871e-09, 4.2949e-07,\n",
            "        3.7239e-06, 1.0615e-10, 1.2857e-04, 1.5257e-10, 1.5976e-06, 5.8359e-05,\n",
            "        2.5933e-07, 9.5356e-12, 2.3507e-03], grad_fn=<SelectBackward0>)\n",
            "---- predicted probability of m 9.046257076761322e-10 \n"
          ]
        }
      ],
      "source": [
        "for i in range(len(Y[:2])):\n",
        "  iy = Y[i].item()\n",
        "  print(f'---- y actual : {itos[iy]} --> {iy} ')\n",
        "  print('---- predicted probabilities : ', prob[i])\n",
        "  print(f'---- predicted probability of {itos[iy]} {prob[i][iy]} ')"
      ]
    },
    {
      "cell_type": "code",
      "execution_count": 110,
      "metadata": {
        "colab": {
          "base_uri": "https://localhost:8080/"
        },
        "id": "75aK1OjNQ5wH",
        "outputId": "084a304c-8743-45b0-f540-c1d487f5c1d4"
      },
      "outputs": [
        {
          "output_type": "execute_result",
          "data": {
            "text/plain": [
              "tensor([7.9406e-05, 9.0463e-10, 2.6306e-09, 2.5379e-02, 1.0564e-07, 1.8226e-01,\n",
              "        4.3930e-05, 6.3609e-08, 7.3472e-08, 1.0054e-08, 1.9696e-02, 4.1512e-03,\n",
              "        4.2762e-02, 1.5871e-06, 2.1677e-01, 5.4982e-04, 1.6396e-07, 3.3729e-11,\n",
              "        9.5087e-01, 1.7362e-04, 2.6468e-07, 1.0213e-05, 4.0064e-05, 1.2164e-02,\n",
              "        1.7735e-04, 4.7982e-09, 6.1455e-03, 1.6214e-06, 4.8349e-05, 2.3233e-09,\n",
              "        4.5359e-03, 8.3696e-07], grad_fn=<IndexBackward0>)"
            ]
          },
          "metadata": {},
          "execution_count": 110
        }
      ],
      "source": [
        "#get the probability of y act from all the respective 32 input feature set \n",
        "prob[torch.arange(32), Y]"
      ]
    },
    {
      "cell_type": "code",
      "execution_count": 111,
      "metadata": {
        "id": "Rj1sVNLFLzQt",
        "colab": {
          "base_uri": "https://localhost:8080/"
        },
        "outputId": "b4cbe745-d7ae-4364-f8f5-4def9ea76781"
      },
      "outputs": [
        {
          "output_type": "execute_result",
          "data": {
            "text/plain": [
              "tensor(11.0280, grad_fn=<NegBackward0>)"
            ]
          },
          "metadata": {},
          "execution_count": 111
        }
      ],
      "source": [
        "#calculate the log likelyhood which is the loss\n",
        "loss = nll = -prob[torch.arange(32),Y].log().mean() \n",
        "loss"
      ]
    },
    {
      "cell_type": "code",
      "execution_count": 114,
      "metadata": {
        "colab": {
          "base_uri": "https://localhost:8080/"
        },
        "id": "Dik3Vt87Qzpy",
        "outputId": "bc58f695-7c28-48b7-e15e-1411950ee497"
      },
      "outputs": [
        {
          "output_type": "execute_result",
          "data": {
            "text/plain": [
              "3481"
            ]
          },
          "metadata": {},
          "execution_count": 114
        }
      ],
      "source": [
        "#parameter of the model\n",
        "parameters = [C, W1, b, W2, b2]\n",
        "sum(p.nelement() for p in parameters)"
      ]
    },
    {
      "cell_type": "markdown",
      "source": [
        "cross_entropy is a built in feature within the pytorch that calculates the negative log likelyhood againt the Y actual after performing the softmax from the given logits. and as it's inbuilt, this is much more effiecent to use"
      ],
      "metadata": {
        "id": "PMxrPba9yW1B"
      }
    },
    {
      "cell_type": "code",
      "execution_count": 115,
      "metadata": {
        "colab": {
          "base_uri": "https://localhost:8080/"
        },
        "id": "k__5YzcLUw0v",
        "outputId": "37e1acf9-a395-467a-a529-f9c27fdcbfc5"
      },
      "outputs": [
        {
          "output_type": "execute_result",
          "data": {
            "text/plain": [
              "tensor(11.0280, grad_fn=<NllLossBackward0>)"
            ]
          },
          "metadata": {},
          "execution_count": 115
        }
      ],
      "source": [
        "#there is an internal impl in pytourch which calculates the loss directly\n",
        "loss = F.cross_entropy(logits, Y)\n",
        "loss"
      ]
    },
    {
      "cell_type": "code",
      "execution_count": 116,
      "metadata": {
        "colab": {
          "base_uri": "https://localhost:8080/"
        },
        "id": "QfT-bmNiciNJ",
        "outputId": "71032322-5fff-40d4-9fb2-308b33417cdb"
      },
      "outputs": [
        {
          "output_type": "execute_result",
          "data": {
            "text/plain": [
              "tensor(2.6876, grad_fn=<NllLossBackward0>)"
            ]
          },
          "metadata": {},
          "execution_count": 116
        }
      ],
      "source": [
        "#backpropogate and tune the model\n",
        "for i in range(10):\n",
        "  #forward\n",
        "  emb = C[X]\n",
        "  out_1 = emb.view(-1,6) @ W1 + b\n",
        "  out_h = torch.tanh(out_1)\n",
        "  logits = out_h @ W2 + b2  \n",
        "  loss = F.cross_entropy(logits, Y)\n",
        "  #backward\n",
        "  for p in parameters:\n",
        "    p.grad = None\n",
        "  loss.backward()\n",
        "  #update\n",
        "  for p in parameters:\n",
        "    p.data += -0.5 * p.grad\n",
        "\n",
        "loss"
      ]
    },
    {
      "cell_type": "markdown",
      "source": [
        "So far we have tried with only first five names from the data set. so let's try the same approach with the whole data set"
      ],
      "metadata": {
        "id": "O6mdiMTcB3G3"
      }
    },
    {
      "cell_type": "code",
      "execution_count": 135,
      "metadata": {
        "id": "L049PXX9dXbj"
      },
      "outputs": [],
      "source": [
        "X, Y = [], []\n",
        "\n",
        "for name in words:\n",
        "  context = [0] * 3\n",
        "  for ch in name + '.':\n",
        "    ix = stoi[ch]\n",
        "    Y.append(ix)\n",
        "    X.append(context)\n",
        "    context = context[1:] + [ix]\n",
        "\n",
        "X = torch.tensor(X)\n",
        "Y = torch.tensor(Y)\n"
      ]
    },
    {
      "cell_type": "markdown",
      "source": [
        "Why do we use tensors instead of normal array\n",
        "\n",
        "1. Efficient computation on GPUs: torch.Tensor has built-in support for GPU acceleration, which makes it much faster than standard multidimensional arrays when performing computationally intensive operations. This is especially important in machine learning, where large amounts of data need to be processed quickly.\n",
        "\n",
        "2. Automatic differentiation: torch.Tensor supports automatic differentiation, which is a key feature for training neural networks using techniques like backpropagation. Automatic differentiation allows you to easily calculate gradients of complex functions, which is essential for optimizing model parameters.\n",
        "\n",
        "3. Extensive library support: torch.Tensor is part of the PyTorch library, which has extensive support for machine learning and scientific computing. PyTorch includes many useful tools for building and training neural networks, such as built-in loss functions, optimizers, and activation functions.\n",
        "\n",
        "4. Flexible data types: torch.Tensor supports a wide range of data types, including floating-point numbers, integers, and Boolean values. This flexibility makes it easy to work with different types of data, which is important in many scientific and engineering applications."
      ],
      "metadata": {
        "id": "klrJOApMIyQQ"
      }
    },
    {
      "cell_type": "code",
      "source": [
        "C = torch.randn((27,2),requires_grad=True)\n",
        "W1 = torch.randn((6,100), requires_grad=True)\n",
        "b1 = torch.randn(100, requires_grad=True)\n",
        "W2 = torch.randn((100, 27), requires_grad=True)\n",
        "b2 = torch.randn(27, requires_grad=True)\n",
        "parameters = [C, W1, b1, W2, b2]"
      ],
      "metadata": {
        "id": "l72DE7aAJLS-"
      },
      "execution_count": 195,
      "outputs": []
    },
    {
      "cell_type": "code",
      "source": [
        "emb = C[X]\n",
        "out_h = (emb.view(-1, 6) @ W1 + b1).tanh()\n",
        "logits = out_h @ W2 + b2\n",
        "loss = F.cross_entropy(logits, Y)\n",
        "loss"
      ],
      "metadata": {
        "colab": {
          "base_uri": "https://localhost:8080/"
        },
        "id": "a0BMqdkwNn_A",
        "outputId": "ac17bda6-5a84-44a9-9bd9-d93e1f6a9788"
      },
      "execution_count": 196,
      "outputs": [
        {
          "output_type": "execute_result",
          "data": {
            "text/plain": [
              "tensor(16.0425, grad_fn=<NllLossBackward0>)"
            ]
          },
          "metadata": {},
          "execution_count": 196
        }
      ]
    },
    {
      "cell_type": "code",
      "source": [
        "for i in range(10):\n",
        "  #forward pass\n",
        "  emb = C[X]\n",
        "  logits = ((emb.view(-1,6) @ W1 + b1).tanh()) @ W2 + b2\n",
        "  loss = F.cross_entropy(logits, Y)\n",
        "\n",
        "  #backward\n",
        "  for p in parameters:\n",
        "    p.grad = None\n",
        "  loss.backward()\n",
        "\n",
        "  #tune the parameters\n",
        "  for p in parameters:\n",
        "    p.data += -0.1 * p.grad"
      ],
      "metadata": {
        "id": "MI5VgEF-TekU"
      },
      "execution_count": 197,
      "outputs": []
    },
    {
      "cell_type": "code",
      "source": [
        "loss.item()"
      ],
      "metadata": {
        "colab": {
          "base_uri": "https://localhost:8080/"
        },
        "id": "OPjsUmCSU6Fn",
        "outputId": "f5861fd8-c58c-441c-c3f6-cac673794767"
      },
      "execution_count": 198,
      "outputs": [
        {
          "output_type": "execute_result",
          "data": {
            "text/plain": [
              "8.699881553649902"
            ]
          },
          "metadata": {},
          "execution_count": 198
        }
      ]
    },
    {
      "cell_type": "markdown",
      "source": [
        "Choosing a good learning rate is a critical step when training a Multilayer Perceptron (MLP) using backpropagation. Here are some methods to determine a better learning rate:\n",
        "--\n",
        "\n",
        "1. Grid Search: Grid search is a simple but effective way to find a good learning rate. In this method, you specify a range of learning rates and train the MLP with each learning rate in the range. You can then evaluate the performance of the model for each learning rate and choose the one that performs best.\n",
        "\n",
        "2. Learning Rate Range Test: The learning rate range test is a more automated way to determine a good learning rate. In this method, you start with a very small learning rate and increase it exponentially while training the model. You can then plot the loss as a function of learning rate and choose the value at which the loss starts to decrease the most rapidly. This method can help you find a good learning rate quickly and without much manual effort.\n",
        "\n",
        "3. Adaptive Learning Rates: Adaptive learning rate methods, such as Adam and Adagrad, adjust the learning rate automatically during training based on the gradients of the loss function. These methods can be more effective than manually tuning the learning rate, as they can adapt to the specific characteristics of the problem being solved.\n",
        "\n",
        "4. Learning Rate Schedules: Learning rate schedules adjust the learning rate over time, typically reducing it as training progresses. Commonly used learning rate schedules include step decay, where the learning rate is reduced by a fixed factor after a certain number of epochs, and exponential decay, where the learning rate is reduced exponentially over time. These methods can help prevent the learning rate from becoming too large during later stages of training, when the gradients are smaller.\n",
        "\n",
        "Overall, choosing a good learning rate can be a bit of an art, and it may require some experimentation to find the best approach for a particular problem. However, these methods provide a good starting point for finding a suitable learning rate for an MLP with backpropagation.\n",
        "\n",
        "on the learning rate range why are we having to increase  exponentially instead of evenly  \n",
        "--\n",
        "When using the learning rate range test to determine a good learning rate, it is often beneficial to increase the learning rate exponentially instead of evenly. The reason for this is that the effect of the learning rate on the loss function can be highly nonlinear, and it can be difficult to identify the optimal learning rate by sampling uniformly over a range of learning rates.\n",
        "\n",
        "Increasing the learning rate exponentially allows us to cover a wider range of learning rates more quickly, while still being able to identify the learning rates that have the greatest impact on the loss function. By starting with a small learning rate and increasing it exponentially, we can quickly move through the range of learning rates and identify the point at which the loss starts to decrease rapidly. This point typically corresponds to a learning rate that is just large enough to make significant progress in reducing the loss, without causing the loss to become unstable.\n",
        "\n",
        "In addition, increasing the learning rate exponentially helps to avoid getting stuck in local minima by allowing the model to explore a wider range of learning rates. By gradually increasing the learning rate, the model can learn more quickly and avoid getting stuck in a suboptimal solution. This can be especially important in deep learning, where the loss function can have many local minima.\n",
        "\n",
        "Overall, using an exponential increase in the learning rate can help to identify a good learning rate more efficiently and effectively than sampling uniformly over a range of learning rates.\n",
        "\n",
        "\n",
        "\n",
        "\n",
        "\n"
      ],
      "metadata": {
        "id": "xQmjYYpPXDkb"
      }
    },
    {
      "cell_type": "code",
      "source": [
        "# between 0.001 and 1 is a better limit as it seem to be exploding anything beyound this\n",
        "lre = torch.linspace(-3, 1 , 1000)\n",
        "lrs = 10 ** lre\n",
        "lrs"
      ],
      "metadata": {
        "colab": {
          "base_uri": "https://localhost:8080/"
        },
        "id": "DQO-FdxE65q_",
        "outputId": "1a85a014-cdb5-41d4-e988-289ea973ebba"
      },
      "execution_count": 199,
      "outputs": [
        {
          "output_type": "execute_result",
          "data": {
            "text/plain": [
              "tensor([1.0000e-03, 1.0093e-03, 1.0186e-03, 1.0280e-03, 1.0376e-03, 1.0472e-03,\n",
              "        1.0569e-03, 1.0667e-03, 1.0765e-03, 1.0865e-03, 1.0966e-03, 1.1067e-03,\n",
              "        1.1170e-03, 1.1273e-03, 1.1378e-03, 1.1483e-03, 1.1589e-03, 1.1697e-03,\n",
              "        1.1805e-03, 1.1915e-03, 1.2025e-03, 1.2136e-03, 1.2249e-03, 1.2362e-03,\n",
              "        1.2477e-03, 1.2592e-03, 1.2709e-03, 1.2826e-03, 1.2945e-03, 1.3065e-03,\n",
              "        1.3186e-03, 1.3308e-03, 1.3432e-03, 1.3556e-03, 1.3682e-03, 1.3808e-03,\n",
              "        1.3936e-03, 1.4065e-03, 1.4196e-03, 1.4327e-03, 1.4460e-03, 1.4594e-03,\n",
              "        1.4729e-03, 1.4865e-03, 1.5003e-03, 1.5142e-03, 1.5282e-03, 1.5424e-03,\n",
              "        1.5567e-03, 1.5711e-03, 1.5856e-03, 1.6003e-03, 1.6151e-03, 1.6301e-03,\n",
              "        1.6452e-03, 1.6604e-03, 1.6758e-03, 1.6913e-03, 1.7070e-03, 1.7228e-03,\n",
              "        1.7388e-03, 1.7549e-03, 1.7711e-03, 1.7875e-03, 1.8041e-03, 1.8208e-03,\n",
              "        1.8377e-03, 1.8547e-03, 1.8719e-03, 1.8892e-03, 1.9067e-03, 1.9244e-03,\n",
              "        1.9422e-03, 1.9602e-03, 1.9783e-03, 1.9966e-03, 2.0151e-03, 2.0338e-03,\n",
              "        2.0526e-03, 2.0717e-03, 2.0908e-03, 2.1102e-03, 2.1297e-03, 2.1495e-03,\n",
              "        2.1694e-03, 2.1895e-03, 2.2098e-03, 2.2302e-03, 2.2509e-03, 2.2717e-03,\n",
              "        2.2928e-03, 2.3140e-03, 2.3354e-03, 2.3571e-03, 2.3789e-03, 2.4009e-03,\n",
              "        2.4232e-03, 2.4456e-03, 2.4683e-03, 2.4911e-03, 2.5142e-03, 2.5375e-03,\n",
              "        2.5610e-03, 2.5847e-03, 2.6087e-03, 2.6328e-03, 2.6572e-03, 2.6818e-03,\n",
              "        2.7067e-03, 2.7317e-03, 2.7570e-03, 2.7826e-03, 2.8083e-03, 2.8343e-03,\n",
              "        2.8606e-03, 2.8871e-03, 2.9138e-03, 2.9408e-03, 2.9681e-03, 2.9955e-03,\n",
              "        3.0233e-03, 3.0513e-03, 3.0796e-03, 3.1081e-03, 3.1369e-03, 3.1659e-03,\n",
              "        3.1952e-03, 3.2248e-03, 3.2547e-03, 3.2849e-03, 3.3153e-03, 3.3460e-03,\n",
              "        3.3770e-03, 3.4083e-03, 3.4398e-03, 3.4717e-03, 3.5038e-03, 3.5363e-03,\n",
              "        3.5690e-03, 3.6021e-03, 3.6355e-03, 3.6691e-03, 3.7031e-03, 3.7374e-03,\n",
              "        3.7720e-03, 3.8070e-03, 3.8422e-03, 3.8778e-03, 3.9137e-03, 3.9500e-03,\n",
              "        3.9866e-03, 4.0235e-03, 4.0608e-03, 4.0984e-03, 4.1363e-03, 4.1747e-03,\n",
              "        4.2133e-03, 4.2523e-03, 4.2917e-03, 4.3315e-03, 4.3716e-03, 4.4121e-03,\n",
              "        4.4530e-03, 4.4942e-03, 4.5358e-03, 4.5778e-03, 4.6202e-03, 4.6630e-03,\n",
              "        4.7062e-03, 4.7498e-03, 4.7938e-03, 4.8382e-03, 4.8830e-03, 4.9283e-03,\n",
              "        4.9739e-03, 5.0200e-03, 5.0665e-03, 5.1134e-03, 5.1607e-03, 5.2085e-03,\n",
              "        5.2568e-03, 5.3055e-03, 5.3546e-03, 5.4042e-03, 5.4543e-03, 5.5048e-03,\n",
              "        5.5558e-03, 5.6072e-03, 5.6592e-03, 5.7116e-03, 5.7645e-03, 5.8179e-03,\n",
              "        5.8718e-03, 5.9262e-03, 5.9810e-03, 6.0364e-03, 6.0923e-03, 6.1488e-03,\n",
              "        6.2057e-03, 6.2632e-03, 6.3212e-03, 6.3798e-03, 6.4389e-03, 6.4985e-03,\n",
              "        6.5587e-03, 6.6194e-03, 6.6807e-03, 6.7426e-03, 6.8051e-03, 6.8681e-03,\n",
              "        6.9317e-03, 6.9959e-03, 7.0607e-03, 7.1261e-03, 7.1921e-03, 7.2587e-03,\n",
              "        7.3260e-03, 7.3938e-03, 7.4623e-03, 7.5314e-03, 7.6012e-03, 7.6716e-03,\n",
              "        7.7426e-03, 7.8143e-03, 7.8867e-03, 7.9598e-03, 8.0335e-03, 8.1079e-03,\n",
              "        8.1830e-03, 8.2588e-03, 8.3353e-03, 8.4125e-03, 8.4904e-03, 8.5691e-03,\n",
              "        8.6484e-03, 8.7285e-03, 8.8094e-03, 8.8910e-03, 8.9733e-03, 9.0564e-03,\n",
              "        9.1403e-03, 9.2250e-03, 9.3104e-03, 9.3966e-03, 9.4837e-03, 9.5715e-03,\n",
              "        9.6602e-03, 9.7496e-03, 9.8400e-03, 9.9311e-03, 1.0023e-02, 1.0116e-02,\n",
              "        1.0210e-02, 1.0304e-02, 1.0400e-02, 1.0496e-02, 1.0593e-02, 1.0691e-02,\n",
              "        1.0790e-02, 1.0890e-02, 1.0991e-02, 1.1093e-02, 1.1196e-02, 1.1299e-02,\n",
              "        1.1404e-02, 1.1510e-02, 1.1616e-02, 1.1724e-02, 1.1832e-02, 1.1942e-02,\n",
              "        1.2053e-02, 1.2164e-02, 1.2277e-02, 1.2391e-02, 1.2505e-02, 1.2621e-02,\n",
              "        1.2738e-02, 1.2856e-02, 1.2975e-02, 1.3095e-02, 1.3217e-02, 1.3339e-02,\n",
              "        1.3463e-02, 1.3587e-02, 1.3713e-02, 1.3840e-02, 1.3968e-02, 1.4098e-02,\n",
              "        1.4228e-02, 1.4360e-02, 1.4493e-02, 1.4627e-02, 1.4763e-02, 1.4900e-02,\n",
              "        1.5038e-02, 1.5177e-02, 1.5317e-02, 1.5459e-02, 1.5602e-02, 1.5747e-02,\n",
              "        1.5893e-02, 1.6040e-02, 1.6189e-02, 1.6339e-02, 1.6490e-02, 1.6643e-02,\n",
              "        1.6797e-02, 1.6952e-02, 1.7109e-02, 1.7268e-02, 1.7428e-02, 1.7589e-02,\n",
              "        1.7752e-02, 1.7917e-02, 1.8082e-02, 1.8250e-02, 1.8419e-02, 1.8590e-02,\n",
              "        1.8762e-02, 1.8936e-02, 1.9111e-02, 1.9288e-02, 1.9467e-02, 1.9647e-02,\n",
              "        1.9829e-02, 2.0012e-02, 2.0198e-02, 2.0385e-02, 2.0574e-02, 2.0764e-02,\n",
              "        2.0957e-02, 2.1151e-02, 2.1347e-02, 2.1544e-02, 2.1744e-02, 2.1945e-02,\n",
              "        2.2149e-02, 2.2354e-02, 2.2561e-02, 2.2770e-02, 2.2981e-02, 2.3193e-02,\n",
              "        2.3408e-02, 2.3625e-02, 2.3844e-02, 2.4065e-02, 2.4288e-02, 2.4513e-02,\n",
              "        2.4740e-02, 2.4969e-02, 2.5200e-02, 2.5433e-02, 2.5669e-02, 2.5907e-02,\n",
              "        2.6147e-02, 2.6389e-02, 2.6633e-02, 2.6880e-02, 2.7129e-02, 2.7380e-02,\n",
              "        2.7634e-02, 2.7890e-02, 2.8148e-02, 2.8409e-02, 2.8672e-02, 2.8938e-02,\n",
              "        2.9206e-02, 2.9476e-02, 2.9749e-02, 3.0025e-02, 3.0303e-02, 3.0583e-02,\n",
              "        3.0867e-02, 3.1153e-02, 3.1441e-02, 3.1732e-02, 3.2026e-02, 3.2323e-02,\n",
              "        3.2622e-02, 3.2924e-02, 3.3229e-02, 3.3537e-02, 3.3848e-02, 3.4161e-02,\n",
              "        3.4478e-02, 3.4797e-02, 3.5119e-02, 3.5445e-02, 3.5773e-02, 3.6104e-02,\n",
              "        3.6439e-02, 3.6776e-02, 3.7117e-02, 3.7461e-02, 3.7807e-02, 3.8158e-02,\n",
              "        3.8511e-02, 3.8868e-02, 3.9228e-02, 3.9591e-02, 3.9958e-02, 4.0328e-02,\n",
              "        4.0701e-02, 4.1078e-02, 4.1459e-02, 4.1843e-02, 4.2230e-02, 4.2622e-02,\n",
              "        4.3016e-02, 4.3415e-02, 4.3817e-02, 4.4223e-02, 4.4632e-02, 4.5046e-02,\n",
              "        4.5463e-02, 4.5884e-02, 4.6309e-02, 4.6738e-02, 4.7171e-02, 4.7608e-02,\n",
              "        4.8049e-02, 4.8494e-02, 4.8943e-02, 4.9396e-02, 4.9854e-02, 5.0315e-02,\n",
              "        5.0782e-02, 5.1252e-02, 5.1727e-02, 5.2206e-02, 5.2689e-02, 5.3177e-02,\n",
              "        5.3670e-02, 5.4167e-02, 5.4669e-02, 5.5175e-02, 5.5686e-02, 5.6202e-02,\n",
              "        5.6722e-02, 5.7248e-02, 5.7778e-02, 5.8313e-02, 5.8853e-02, 5.9398e-02,\n",
              "        5.9948e-02, 6.0504e-02, 6.1064e-02, 6.1630e-02, 6.2200e-02, 6.2777e-02,\n",
              "        6.3358e-02, 6.3945e-02, 6.4537e-02, 6.5135e-02, 6.5738e-02, 6.6347e-02,\n",
              "        6.6962e-02, 6.7582e-02, 6.8208e-02, 6.8840e-02, 6.9477e-02, 7.0121e-02,\n",
              "        7.0770e-02, 7.1426e-02, 7.2087e-02, 7.2755e-02, 7.3429e-02, 7.4109e-02,\n",
              "        7.4795e-02, 7.5488e-02, 7.6187e-02, 7.6893e-02, 7.7605e-02, 7.8324e-02,\n",
              "        7.9049e-02, 7.9781e-02, 8.0520e-02, 8.1266e-02, 8.2019e-02, 8.2779e-02,\n",
              "        8.3545e-02, 8.4319e-02, 8.5100e-02, 8.5888e-02, 8.6684e-02, 8.7487e-02,\n",
              "        8.8297e-02, 8.9115e-02, 8.9940e-02, 9.0773e-02, 9.1614e-02, 9.2463e-02,\n",
              "        9.3319e-02, 9.4183e-02, 9.5056e-02, 9.5936e-02, 9.6825e-02, 9.7721e-02,\n",
              "        9.8627e-02, 9.9540e-02, 1.0046e-01, 1.0139e-01, 1.0233e-01, 1.0328e-01,\n",
              "        1.0424e-01, 1.0520e-01, 1.0618e-01, 1.0716e-01, 1.0815e-01, 1.0915e-01,\n",
              "        1.1016e-01, 1.1118e-01, 1.1221e-01, 1.1325e-01, 1.1430e-01, 1.1536e-01,\n",
              "        1.1643e-01, 1.1751e-01, 1.1860e-01, 1.1970e-01, 1.2080e-01, 1.2192e-01,\n",
              "        1.2305e-01, 1.2419e-01, 1.2534e-01, 1.2650e-01, 1.2768e-01, 1.2886e-01,\n",
              "        1.3005e-01, 1.3126e-01, 1.3247e-01, 1.3370e-01, 1.3494e-01, 1.3619e-01,\n",
              "        1.3745e-01, 1.3872e-01, 1.4001e-01, 1.4130e-01, 1.4261e-01, 1.4393e-01,\n",
              "        1.4527e-01, 1.4661e-01, 1.4797e-01, 1.4934e-01, 1.5072e-01, 1.5212e-01,\n",
              "        1.5353e-01, 1.5495e-01, 1.5638e-01, 1.5783e-01, 1.5930e-01, 1.6077e-01,\n",
              "        1.6226e-01, 1.6376e-01, 1.6528e-01, 1.6681e-01, 1.6836e-01, 1.6991e-01,\n",
              "        1.7149e-01, 1.7308e-01, 1.7468e-01, 1.7630e-01, 1.7793e-01, 1.7958e-01,\n",
              "        1.8124e-01, 1.8292e-01, 1.8461e-01, 1.8632e-01, 1.8805e-01, 1.8979e-01,\n",
              "        1.9155e-01, 1.9332e-01, 1.9511e-01, 1.9692e-01, 1.9875e-01, 2.0059e-01,\n",
              "        2.0244e-01, 2.0432e-01, 2.0621e-01, 2.0812e-01, 2.1005e-01, 2.1200e-01,\n",
              "        2.1396e-01, 2.1594e-01, 2.1794e-01, 2.1996e-01, 2.2200e-01, 2.2405e-01,\n",
              "        2.2613e-01, 2.2822e-01, 2.3034e-01, 2.3247e-01, 2.3462e-01, 2.3680e-01,\n",
              "        2.3899e-01, 2.4120e-01, 2.4344e-01, 2.4569e-01, 2.4797e-01, 2.5026e-01,\n",
              "        2.5258e-01, 2.5492e-01, 2.5728e-01, 2.5967e-01, 2.6207e-01, 2.6450e-01,\n",
              "        2.6695e-01, 2.6942e-01, 2.7192e-01, 2.7443e-01, 2.7698e-01, 2.7954e-01,\n",
              "        2.8213e-01, 2.8474e-01, 2.8738e-01, 2.9004e-01, 2.9273e-01, 2.9544e-01,\n",
              "        2.9818e-01, 3.0094e-01, 3.0373e-01, 3.0654e-01, 3.0938e-01, 3.1224e-01,\n",
              "        3.1514e-01, 3.1806e-01, 3.2100e-01, 3.2397e-01, 3.2697e-01, 3.3000e-01,\n",
              "        3.3306e-01, 3.3614e-01, 3.3926e-01, 3.4240e-01, 3.4557e-01, 3.4877e-01,\n",
              "        3.5200e-01, 3.5526e-01, 3.5855e-01, 3.6187e-01, 3.6523e-01, 3.6861e-01,\n",
              "        3.7202e-01, 3.7547e-01, 3.7895e-01, 3.8246e-01, 3.8600e-01, 3.8957e-01,\n",
              "        3.9318e-01, 3.9682e-01, 4.0050e-01, 4.0421e-01, 4.0795e-01, 4.1173e-01,\n",
              "        4.1555e-01, 4.1939e-01, 4.2328e-01, 4.2720e-01, 4.3116e-01, 4.3515e-01,\n",
              "        4.3918e-01, 4.4325e-01, 4.4735e-01, 4.5150e-01, 4.5568e-01, 4.5990e-01,\n",
              "        4.6416e-01, 4.6846e-01, 4.7280e-01, 4.7718e-01, 4.8160e-01, 4.8606e-01,\n",
              "        4.9056e-01, 4.9510e-01, 4.9969e-01, 5.0432e-01, 5.0899e-01, 5.1370e-01,\n",
              "        5.1846e-01, 5.2326e-01, 5.2811e-01, 5.3300e-01, 5.3794e-01, 5.4292e-01,\n",
              "        5.4795e-01, 5.5302e-01, 5.5814e-01, 5.6331e-01, 5.6853e-01, 5.7380e-01,\n",
              "        5.7911e-01, 5.8448e-01, 5.8989e-01, 5.9535e-01, 6.0087e-01, 6.0643e-01,\n",
              "        6.1205e-01, 6.1772e-01, 6.2344e-01, 6.2921e-01, 6.3504e-01, 6.4092e-01,\n",
              "        6.4686e-01, 6.5285e-01, 6.5890e-01, 6.6500e-01, 6.7116e-01, 6.7738e-01,\n",
              "        6.8365e-01, 6.8998e-01, 6.9637e-01, 7.0282e-01, 7.0933e-01, 7.1590e-01,\n",
              "        7.2253e-01, 7.2923e-01, 7.3598e-01, 7.4280e-01, 7.4968e-01, 7.5662e-01,\n",
              "        7.6363e-01, 7.7070e-01, 7.7784e-01, 7.8505e-01, 7.9232e-01, 7.9966e-01,\n",
              "        8.0706e-01, 8.1454e-01, 8.2208e-01, 8.2970e-01, 8.3738e-01, 8.4514e-01,\n",
              "        8.5296e-01, 8.6086e-01, 8.6884e-01, 8.7689e-01, 8.8501e-01, 8.9320e-01,\n",
              "        9.0148e-01, 9.0983e-01, 9.1825e-01, 9.2676e-01, 9.3534e-01, 9.4401e-01,\n",
              "        9.5275e-01, 9.6157e-01, 9.7048e-01, 9.7947e-01, 9.8854e-01, 9.9770e-01,\n",
              "        1.0069e+00, 1.0163e+00, 1.0257e+00, 1.0352e+00, 1.0448e+00, 1.0544e+00,\n",
              "        1.0642e+00, 1.0741e+00, 1.0840e+00, 1.0941e+00, 1.1042e+00, 1.1144e+00,\n",
              "        1.1247e+00, 1.1352e+00, 1.1457e+00, 1.1563e+00, 1.1670e+00, 1.1778e+00,\n",
              "        1.1887e+00, 1.1997e+00, 1.2108e+00, 1.2220e+00, 1.2334e+00, 1.2448e+00,\n",
              "        1.2563e+00, 1.2680e+00, 1.2797e+00, 1.2915e+00, 1.3035e+00, 1.3156e+00,\n",
              "        1.3278e+00, 1.3401e+00, 1.3525e+00, 1.3650e+00, 1.3777e+00, 1.3904e+00,\n",
              "        1.4033e+00, 1.4163e+00, 1.4294e+00, 1.4426e+00, 1.4560e+00, 1.4695e+00,\n",
              "        1.4831e+00, 1.4968e+00, 1.5107e+00, 1.5247e+00, 1.5388e+00, 1.5531e+00,\n",
              "        1.5675e+00, 1.5820e+00, 1.5966e+00, 1.6114e+00, 1.6263e+00, 1.6414e+00,\n",
              "        1.6566e+00, 1.6719e+00, 1.6874e+00, 1.7031e+00, 1.7188e+00, 1.7348e+00,\n",
              "        1.7508e+00, 1.7670e+00, 1.7834e+00, 1.7999e+00, 1.8166e+00, 1.8334e+00,\n",
              "        1.8504e+00, 1.8675e+00, 1.8848e+00, 1.9023e+00, 1.9199e+00, 1.9377e+00,\n",
              "        1.9557e+00, 1.9738e+00, 1.9920e+00, 2.0105e+00, 2.0291e+00, 2.0479e+00,\n",
              "        2.0669e+00, 2.0860e+00, 2.1053e+00, 2.1248e+00, 2.1445e+00, 2.1644e+00,\n",
              "        2.1844e+00, 2.2047e+00, 2.2251e+00, 2.2457e+00, 2.2665e+00, 2.2875e+00,\n",
              "        2.3087e+00, 2.3301e+00, 2.3516e+00, 2.3734e+00, 2.3954e+00, 2.4176e+00,\n",
              "        2.4400e+00, 2.4626e+00, 2.4854e+00, 2.5084e+00, 2.5316e+00, 2.5551e+00,\n",
              "        2.5788e+00, 2.6026e+00, 2.6268e+00, 2.6511e+00, 2.6756e+00, 2.7004e+00,\n",
              "        2.7254e+00, 2.7507e+00, 2.7762e+00, 2.8019e+00, 2.8278e+00, 2.8540e+00,\n",
              "        2.8804e+00, 2.9071e+00, 2.9340e+00, 2.9612e+00, 2.9887e+00, 3.0163e+00,\n",
              "        3.0443e+00, 3.0725e+00, 3.1009e+00, 3.1296e+00, 3.1586e+00, 3.1879e+00,\n",
              "        3.2174e+00, 3.2472e+00, 3.2773e+00, 3.3076e+00, 3.3383e+00, 3.3692e+00,\n",
              "        3.4004e+00, 3.4319e+00, 3.4637e+00, 3.4958e+00, 3.5282e+00, 3.5608e+00,\n",
              "        3.5938e+00, 3.6271e+00, 3.6607e+00, 3.6946e+00, 3.7288e+00, 3.7634e+00,\n",
              "        3.7982e+00, 3.8334e+00, 3.8689e+00, 3.9047e+00, 3.9409e+00, 3.9774e+00,\n",
              "        4.0142e+00, 4.0514e+00, 4.0889e+00, 4.1268e+00, 4.1650e+00, 4.2036e+00,\n",
              "        4.2426e+00, 4.2819e+00, 4.3215e+00, 4.3615e+00, 4.4019e+00, 4.4427e+00,\n",
              "        4.4839e+00, 4.5254e+00, 4.5673e+00, 4.6096e+00, 4.6523e+00, 4.6954e+00,\n",
              "        4.7389e+00, 4.7828e+00, 4.8271e+00, 4.8718e+00, 4.9169e+00, 4.9624e+00,\n",
              "        5.0084e+00, 5.0548e+00, 5.1016e+00, 5.1489e+00, 5.1966e+00, 5.2447e+00,\n",
              "        5.2933e+00, 5.3423e+00, 5.3918e+00, 5.4417e+00, 5.4921e+00, 5.5430e+00,\n",
              "        5.5943e+00, 5.6461e+00, 5.6984e+00, 5.7512e+00, 5.8045e+00, 5.8582e+00,\n",
              "        5.9125e+00, 5.9673e+00, 6.0225e+00, 6.0783e+00, 6.1346e+00, 6.1914e+00,\n",
              "        6.2488e+00, 6.3067e+00, 6.3651e+00, 6.4240e+00, 6.4835e+00, 6.5436e+00,\n",
              "        6.6042e+00, 6.6654e+00, 6.7271e+00, 6.7894e+00, 6.8523e+00, 6.9158e+00,\n",
              "        6.9798e+00, 7.0445e+00, 7.1097e+00, 7.1756e+00, 7.2420e+00, 7.3091e+00,\n",
              "        7.3768e+00, 7.4451e+00, 7.5141e+00, 7.5837e+00, 7.6539e+00, 7.7248e+00,\n",
              "        7.7964e+00, 7.8686e+00, 7.9415e+00, 8.0150e+00, 8.0892e+00, 8.1642e+00,\n",
              "        8.2398e+00, 8.3161e+00, 8.3931e+00, 8.4709e+00, 8.5493e+00, 8.6285e+00,\n",
              "        8.7084e+00, 8.7891e+00, 8.8705e+00, 8.9527e+00, 9.0356e+00, 9.1193e+00,\n",
              "        9.2037e+00, 9.2890e+00, 9.3750e+00, 9.4618e+00, 9.5495e+00, 9.6379e+00,\n",
              "        9.7272e+00, 9.8173e+00, 9.9082e+00, 1.0000e+01])"
            ]
          },
          "metadata": {},
          "execution_count": 199
        }
      ]
    },
    {
      "cell_type": "code",
      "source": [
        "stepi = []\n",
        "lrei = []\n",
        "lossi = []\n",
        "\n",
        "for i in range(1000):\n",
        "  #forward pass\n",
        "  emb = C[X[:32]]\n",
        "  logits = ((emb.view(-1,6) @ W1 + b1).tanh()) @ W2 + b2\n",
        "  loss = F.cross_entropy(logits, Y[:32])\n",
        "\n",
        "  #backward\n",
        "  for p in parameters:\n",
        "    p.grad = None\n",
        "  loss.backward()\n",
        "\n",
        "  lr = lrs[i]\n",
        "  #tune the parameters\n",
        "  for p in parameters:\n",
        "    p.data += -lr * p.grad\n",
        "\n",
        "  stepi.append(i)\n",
        "  lrei.append(lr)\n",
        "  lossi.append(loss.item())"
      ],
      "metadata": {
        "id": "jeq2uC6ukYAK"
      },
      "execution_count": 202,
      "outputs": []
    },
    {
      "cell_type": "code",
      "source": [
        "plt.plot(lrei, lossi)"
      ],
      "metadata": {
        "colab": {
          "base_uri": "https://localhost:8080/",
          "height": 283
        },
        "id": "6QHvYE6Co7ii",
        "outputId": "9df3e15e-b4a8-4a84-8c93-ff5726338970"
      },
      "execution_count": 205,
      "outputs": [
        {
          "output_type": "execute_result",
          "data": {
            "text/plain": [
              "[<matplotlib.lines.Line2D at 0x7fcf13854fa0>]"
            ]
          },
          "metadata": {},
          "execution_count": 205
        },
        {
          "output_type": "display_data",
          "data": {
            "text/plain": [
              "<Figure size 432x288 with 1 Axes>"
            ],
            "image/png": "[encoded data removed]"
          },
          "metadata": {
            "needs_background": "light"
          }
        }
      ]
    },
    {
      "cell_type": "markdown",
      "source": [
        "So based on these we can see it's very stable when it's around -0.1. therefore it can be used as the learning rate"
      ],
      "metadata": {
        "id": "nnUaTK1PaisC"
      }
    },
    {
      "cell_type": "code",
      "source": [
        "plt.plot(stepi, lossi)"
      ],
      "metadata": {
        "colab": {
          "base_uri": "https://localhost:8080/",
          "height": 283
        },
        "id": "Nwe_ndF-H_OU",
        "outputId": "28e8c58f-b852-47b7-c9af-45f1c6f1828d"
      },
      "execution_count": 208,
      "outputs": [
        {
          "output_type": "execute_result",
          "data": {
            "text/plain": [
              "[<matplotlib.lines.Line2D at 0x7fcf1366f5e0>]"
            ]
          },
          "metadata": {},
          "execution_count": 208
        },
        {
          "output_type": "display_data",
          "data": {
            "text/plain": [
              "<Figure size 432x288 with 1 Axes>"
            ],
            "image/png": "[encoded data removed]"
          },
          "metadata": {
            "needs_background": "light"
          }
        }
      ]
    },
    {
      "cell_type": "code",
      "source": [
        "emb = C[X] \n",
        "h = torch.tanh(emb.view(-1, 6) @ W1 + b1)\n",
        "logits = h @ W2 + b2\n",
        "loss = F.cross_entropy(logits, Y)\n",
        "loss"
      ],
      "metadata": {
        "colab": {
          "base_uri": "https://localhost:8080/"
        },
        "id": "D7B2LyOP7jRb",
        "outputId": "613ca7f9-c0ee-4677-c074-b9f8bd4453c8"
      },
      "execution_count": null,
      "outputs": [
        {
          "output_type": "execute_result",
          "data": {
            "text/plain": [
              "tensor(7.8584, grad_fn=<NllLossBackward0>)"
            ]
          },
          "metadata": {},
          "execution_count": 31
        }
      ]
    },
    {
      "cell_type": "code",
      "source": [
        "plt.figure(figsize=(8,8))\n",
        "plt.scatter(C[:,0].data, C[:,1].data, s=200)\n",
        "for i in range(C.shape[0]):\n",
        "    plt.text(C[i,0].item(), C[i,1].item(), itos[i], ha=\"center\", va=\"center\", color='white')\n",
        "plt.grid('minor')"
      ],
      "metadata": {
        "colab": {
          "base_uri": "https://localhost:8080/",
          "height": 483
        },
        "id": "K2gqxyR1-WTV",
        "outputId": "f0cdf286-afa4-4894-adc7-3758ca04cf28"
      },
      "execution_count": null,
      "outputs": [
        {
          "output_type": "display_data",
          "data": {
            "text/plain": [
              "<Figure size 576x576 with 1 Axes>"
            ],
            "image/png": "[encoded data removed]"
          },
          "metadata": {
            "needs_background": "light"
          }
        }
      ]
    },
    {
      "cell_type": "code",
      "source": [
        "for _ in range(20):\n",
        "    \n",
        "    out = []\n",
        "    context = [0] * block_size\n",
        "    while True:\n",
        "      emb = C[torch.tensor([context])] \n",
        "      h = torch.tanh(emb.view(1, -1) @ W1 + b1)\n",
        "      logits = h @ W2 + b2\n",
        "      probs = F.softmax(logits, dim=1)\n",
        "      ix = torch.multinomial(probs, num_samples=1, generator=g).item()\n",
        "      context = context[1:] + [ix]\n",
        "      out.append(ix)\n",
        "      if ix == 0:\n",
        "        break\n",
        "    \n",
        "    print(''.join(itos[i] for i in out))"
      ],
      "metadata": {
        "colab": {
          "base_uri": "https://localhost:8080/"
        },
        "id": "OEpVjXao-iEQ",
        "outputId": "f493cd5e-915e-47dc-ec12-44cd6f49d027"
      },
      "execution_count": null,
      "outputs": [
        {
          "output_type": "stream",
          "name": "stdout",
          "text": [
            "to.\n",
            "tokaoutle.\n",
            "tolmillilltlrelnebdstlilatmi.\n",
            "tolmilleusssdssslatmatlt.\n",
            "tosmatenrilate.\n",
            "toknile.\n",
            "to.\n",
            "to.\n",
            "to.\n",
            "toknutdlt.\n",
            "tommile.\n",
            "tomnutlatltltllatstssstli.\n",
            "tolmstnatepmate.\n",
            "to.\n",
            "emlutp.\n",
            "ttnatelaltolqllltlelastolmitelrnatstlittlatjatlt.\n",
            "ttnile.\n",
            "tolmute.\n",
            "to.\n",
            "tolmitratle.\n"
          ]
        }
      ]
    },
    {
      "cell_type": "code",
      "source": [],
      "metadata": {
        "id": "iyN6rB-B-oZe"
      },
      "execution_count": null,
      "outputs": []
    }
  ],
  "metadata": {
    "colab": {
      "provenance": [],
      "authorship_tag": "ABX9TyOxJUotWRs8tNgMRLZIdZg5",
      "include_colab_link": true
    },
    "kernelspec": {
      "display_name": "Python 3",
      "name": "python3"
    },
    "language_info": {
      "name": "python"
    }
  },
  "nbformat": 4,
  "nbformat_minor": 0
}